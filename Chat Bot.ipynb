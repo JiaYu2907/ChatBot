{
 "cells": [
  {
   "cell_type": "code",
   "execution_count": 1,
   "metadata": {},
   "outputs": [],
   "source": [
    "from nltk.chat.util import Chat, reflections"
   ]
  },
  {
   "cell_type": "code",
   "execution_count": 2,
   "metadata": {},
   "outputs": [],
   "source": [
    "pairs = [\n",
    "    [r'my name is (.*)' , ['Hi, %1']\n",
    "    ],\n",
    "    [r'(hi|hello|hey)(.*)', ['Hi! How Can I Help?']\n",
    "    ],\n",
    "    ['what are (.*) and (.*)?', ['%1 and %2 are fruits']\n",
    "    ],\n",
    "    ['how were you created?', ['By nltk']],\n",
    "    ['(.*)help(.*)', ['I can help you!']],\n",
    "    ['(.*) your name?', ['My name is Ms.ChatBot']], \n",
    "    ['how are you?', ['I am good. How about you?']],\n",
    "    [r'quit', ['Have a nice day! See you soon!']],\n",
    "    ['(.*)(sad|disappointed|suicide)(.*)', ['I am sorry about that. If you need help, call: 04-12345678']],\n",
    "    ['(.*) happy (.*)', ['I am happy for you too! :D']]\n",
    "]"
   ]
  },
  {
   "cell_type": "code",
   "execution_count": 3,
   "metadata": {},
   "outputs": [
    {
     "name": "stdout",
     "output_type": "stream",
     "text": [
      ">Hi\n",
      "Hi! How Can I Help?\n",
      ">hey\n",
      "Hi! How Can I Help?\n",
      ">hello\n",
      "Hi! How Can I Help?\n",
      ">my name is Jia\n",
      "Hi, jia\n",
      ">what are apple and durian?\n",
      "apple and durian? are fruits\n",
      ">how were you created?\n",
      "By nltk\n",
      ">Can you help me?\n",
      "I can help you!\n",
      ">What is your name?\n",
      "My name is Ms.ChatBot\n",
      ">how are you?\n",
      "I am good. How about you?\n",
      ">I am so sad\n",
      "I am sorry about that. If you need help, call: 04-12345678\n",
      ">But I am happy now\n",
      "I am happy for you too! :D\n",
      ">quit\n",
      "Have a nice day! See you soon!\n"
     ]
    }
   ],
   "source": [
    "chat= Chat(pairs, reflections)\n",
    "chat.converse()"
   ]
  },
  {
   "cell_type": "code",
   "execution_count": null,
   "metadata": {},
   "outputs": [],
   "source": []
  }
 ],
 "metadata": {
  "kernelspec": {
   "display_name": "Python 3",
   "language": "python",
   "name": "python3"
  },
  "language_info": {
   "codemirror_mode": {
    "name": "ipython",
    "version": 3
   },
   "file_extension": ".py",
   "mimetype": "text/x-python",
   "name": "python",
   "nbconvert_exporter": "python",
   "pygments_lexer": "ipython3",
   "version": "3.7.4"
  }
 },
 "nbformat": 4,
 "nbformat_minor": 4
}
